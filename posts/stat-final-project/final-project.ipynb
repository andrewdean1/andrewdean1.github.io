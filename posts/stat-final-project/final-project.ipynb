{
 "cells": [
  {
   "cell_type": "markdown",
   "metadata": {},
   "source": [
    "---\n",
    "title: Statistical Learning Final Project\n",
    "author: Andrew Dean\n",
    "date: '2025-05-12'\n",
    "image: \"beat.gif\"\n",
    "description: \"Predicts a Song's Genre From Its Lyrics\"\n",
    "code-fold: true\n",
    "execute:\n",
    "    warning: false\n",
    "    message: false\n",
    "---"
   ]
  },
  {
   "cell_type": "markdown",
   "metadata": {},
   "source": [
    "## Can we predict a song’s genre solely from its lyrics?\n",
    "This question explores whether the words and phrasing artists choose carry strong enough genre‐specific signals — beyond melody or instrumentation — to allow an automated classifier to recover “pop,” “rock,” “jazz,” etc., purely from the lyric text. This is a classic supervised task where each example (lyrics) is paired with a known label (its genre). Once trained, a model can tag new or unlabeled songs, possibly helping streaming services or recommendation engines organize catalogs.\n",
    "\n",
    "I’ll use the TCC–CEDS music dataset (1950–2019), which provides for each track: lyrics text along with metadata features like danceability, loudness, acousticness, valence, sadness etc. But, in this project I ignore all metadata and rely solely on the lyrics column. This gives us ~4,000 songs across 7 genres, with enough samples per class to train and validate my model, a neural classifier.\n",
    "\n",
    "[Access the Data.](https://www.kaggle.com/datasets/saurabhshahane/music-dataset-1950-to-2019?resource=download)"
   ]
  },
  {
   "cell_type": "code",
   "execution_count": 20,
   "metadata": {
    "vscode": {
     "languageId": "r"
    }
   },
   "outputs": [
    {
     "name": "stderr",
     "output_type": "stream",
     "text": [
      "\n",
      "Attaching package: ‘text2vec’\n",
      "\n",
      "\n",
      "The following objects are masked from ‘package:keras’:\n",
      "\n",
      "    fit, normalize\n",
      "\n",
      "\n",
      "\n",
      "Attaching package: ‘coro’\n",
      "\n",
      "\n",
      "The following object is masked from ‘package:dplyr’:\n",
      "\n",
      "    collect\n",
      "\n",
      "\n"
     ]
    }
   ],
   "source": [
    "library(torch)\n",
    "library(text2vec)\n",
    "library(tidyverse)\n",
    "library(rsample)\n",
    "library(coro)\n",
    "set.seed(1)"
   ]
  },
  {
   "cell_type": "code",
   "execution_count": 21,
   "metadata": {
    "vscode": {
     "languageId": "r"
    }
   },
   "outputs": [],
   "source": [
    "music <- read.csv(\"tcc_ceds_music.csv\")"
   ]
  },
  {
   "cell_type": "markdown",
   "metadata": {},
   "source": [
    "Here are some of the features from the data:\n",
    "\n",
    "- artist_name\t\n",
    "- track_name\t\n",
    "- release_date\t\n",
    "- genre\t\n",
    "- lyrics\t\n",
    "- len\t\n",
    "- dating\t\n",
    "- violence\t\n",
    "- world.life\n",
    "- feelings\t\n",
    "- danceability\t\n",
    "- loudness\t\n",
    "- acousticness\t\n",
    "- instrumentalness\t\n",
    "- valence\t\n",
    "- energy\t\n",
    "- topic\t\n",
    "- age\t\n",
    "- genre_id\n",
    "\n",
    "This dataset has a lot of interesting features. But, the one that is most relevant to my research question is the track's lyrics. I want to predict the genre of a track solely based on that! To do that, I'll build a neural network."
   ]
  },
  {
   "cell_type": "markdown",
   "metadata": {},
   "source": [
    "## Basic Model Background. How does it work?\n",
    "I teach the model to “read” each song’s lyrics much like you might skim a paragraph: first, I turn every word into a simple number and make every song the same length by cutting off extra words or padding with blanks. Next, the model looks up each number in a tiny “dictionary” of meaning — so words that often appear in rock songs, say, end up with similar little summaries, and words from jazz songs get a different summary. To keep it honest, I occasionally (about one in five words) pretend a word isn’t there, so the model can’t just memorize one or two tell-tale words. After that, it takes all those word summaries and averages them into a single, very short summary of the whole song. That summary then goes into a small decision step that spits out a score for each genre (“pop,” “country,” etc.). During training, the model sees whether its guess was right or wrong and adjusts those word summaries and decision rules to get closer to the correct genres. By repeating this on small batches of songs over several passes, it gradually learns which lyrical patterns go with which genre — all without any rules beyond “here are the words, and here is the true genre.”"
   ]
  },
  {
   "cell_type": "markdown",
   "metadata": {},
   "source": [
    "To help understand on a deeper level, I'll explain each code chunk to get more insight into how a neural network actually functions. But feel free to **skip to the \"Results\"** section which more broadly explains what we accomplished in non-technical terms."
   ]
  },
  {
   "cell_type": "markdown",
   "metadata": {},
   "source": [
    "## Building the Model"
   ]
  },
  {
   "cell_type": "markdown",
   "metadata": {},
   "source": [
    "This first chunk first creates a genre_map that assigns each of our seven target genres a unique integer from 0 to 6. I then filter the data frame to keep only songs whose genre matches one of these names, dropping any others. Finally, I use mutate to look up each song’s genre string in the genre_map and create a new column, genre_id, holding the corresponding integer label. Converting textual genres into numeric IDs is essential because the neural network and its loss function require numeric class labels rather than strings."
   ]
  },
  {
   "cell_type": "code",
   "execution_count": 22,
   "metadata": {
    "vscode": {
     "languageId": "r"
    }
   },
   "outputs": [],
   "source": [
    "genre_map <- c(pop=0, country=1, blues=2, jazz=3, reggae=4, rock=5, `hip hop`=6)\n",
    "music <- music %>%\n",
    "  filter(genre %in% names(genre_map)) %>%\n",
    "  mutate(genre_id = genre_map[genre])"
   ]
  },
  {
   "cell_type": "code",
   "execution_count": 41,
   "metadata": {
    "vscode": {
     "languageId": "r"
    }
   },
   "outputs": [
    {
     "data": {
      "text/html": [
       "<table class=\"dataframe\">\n",
       "<caption>A data.frame: 7 × 3</caption>\n",
       "<thead>\n",
       "\t<tr><th scope=col>genre</th><th scope=col>n</th><th scope=col>prop</th></tr>\n",
       "\t<tr><th scope=col>&lt;chr&gt;</th><th scope=col>&lt;int&gt;</th><th scope=col>&lt;dbl&gt;</th></tr>\n",
       "</thead>\n",
       "<tbody>\n",
       "\t<tr><td>blues  </td><td>4604</td><td>0.16227266</td></tr>\n",
       "\t<tr><td>country</td><td>5445</td><td>0.19191456</td></tr>\n",
       "\t<tr><td>hip hop</td><td> 904</td><td>0.03186240</td></tr>\n",
       "\t<tr><td>jazz   </td><td>3845</td><td>0.13552094</td></tr>\n",
       "\t<tr><td>pop    </td><td>7042</td><td>0.24820245</td></tr>\n",
       "\t<tr><td>reggae </td><td>2498</td><td>0.08804455</td></tr>\n",
       "\t<tr><td>rock   </td><td>4034</td><td>0.14218243</td></tr>\n",
       "</tbody>\n",
       "</table>\n"
      ],
      "text/latex": [
       "A data.frame: 7 × 3\n",
       "\\begin{tabular}{lll}\n",
       " genre & n & prop\\\\\n",
       " <chr> & <int> & <dbl>\\\\\n",
       "\\hline\n",
       "\t blues   & 4604 & 0.16227266\\\\\n",
       "\t country & 5445 & 0.19191456\\\\\n",
       "\t hip hop &  904 & 0.03186240\\\\\n",
       "\t jazz    & 3845 & 0.13552094\\\\\n",
       "\t pop     & 7042 & 0.24820245\\\\\n",
       "\t reggae  & 2498 & 0.08804455\\\\\n",
       "\t rock    & 4034 & 0.14218243\\\\\n",
       "\\end{tabular}\n"
      ],
      "text/markdown": [
       "\n",
       "A data.frame: 7 × 3\n",
       "\n",
       "| genre &lt;chr&gt; | n &lt;int&gt; | prop &lt;dbl&gt; |\n",
       "|---|---|---|\n",
       "| blues   | 4604 | 0.16227266 |\n",
       "| country | 5445 | 0.19191456 |\n",
       "| hip hop |  904 | 0.03186240 |\n",
       "| jazz    | 3845 | 0.13552094 |\n",
       "| pop     | 7042 | 0.24820245 |\n",
       "| reggae  | 2498 | 0.08804455 |\n",
       "| rock    | 4034 | 0.14218243 |\n",
       "\n"
      ],
      "text/plain": [
       "  genre   n    prop      \n",
       "1 blues   4604 0.16227266\n",
       "2 country 5445 0.19191456\n",
       "3 hip hop  904 0.03186240\n",
       "4 jazz    3845 0.13552094\n",
       "5 pop     7042 0.24820245\n",
       "6 reggae  2498 0.08804455\n",
       "7 rock    4034 0.14218243"
      ]
     },
     "metadata": {},
     "output_type": "display_data"
    }
   ],
   "source": [
    "library(dplyr)\n",
    "music %>%\n",
    "  count(genre) %>%\n",
    "  mutate(prop = n / nrow(music))"
   ]
  },
  {
   "cell_type": "markdown",
   "metadata": {},
   "source": [
    "If we were to always predict the pop genre, we'd get 24.8% accuracy. So that's the number to beat! Let's see what we can do."
   ]
  },
  {
   "cell_type": "code",
   "execution_count": 23,
   "metadata": {
    "vscode": {
     "languageId": "r"
    }
   },
   "outputs": [],
   "source": [
    "splits <- initial_split(music, prop = 0.8, strata = \"genre_id\")\n",
    "train_music <- training(splits)\n",
    "val_music <- testing(splits)"
   ]
  },
  {
   "cell_type": "markdown",
   "metadata": {},
   "source": [
    "Here, I build the word vocabulary that the model will use to turn lyrics into numbers. First, I set min_freq <- 50 to ignore any word that appears fewer than fifty times across all training lyrics. I then take each song’s lyrics, convert them to lowercase, and apply word_tokenizer to split them into lists of tokens. Passing those token lists into itoken() gives us an iterator that create_vocabulary() uses to count every unique word. By piping into prune_vocabulary(term_count_min = min_freq), I drop all low-frequency tokens, leaving only words with enough examples to learn reliable embeddings. Finally, I pull out the surviving terms into terms, record how many there are in vocab_size, and build term_index - a named integer vector that maps each word to its position in the vocabulary. This mapping is what I use later to convert words into integer IDs for the neural network."
   ]
  },
  {
   "cell_type": "code",
   "execution_count": null,
   "metadata": {
    "vscode": {
     "languageId": "r"
    }
   },
   "outputs": [],
   "source": [
    "min_freq <- 50\n",
    "tokens <- train_music$lyrics %>% tolower() %>% word_tokenizer\n",
    "it <- itoken(tokens)\n",
    "vocab <- create_vocabulary(it) %>% prune_vocabulary(term_count_min = min_freq)\n",
    "terms <- vocab$term\n",
    "vocab_size <- length(terms)\n",
    "term_index <- seq_along(terms); names(term_index) <- terms"
   ]
  },
  {
   "cell_type": "code",
   "execution_count": 26,
   "metadata": {
    "vscode": {
     "languageId": "r"
    }
   },
   "outputs": [],
   "source": [
    "max_len <- 150\n",
    "unk_index <- vocab_size + 1\n",
    "\n",
    "text_to_tensor <- function(txt) {\n",
    "  toks <- word_tokenizer(tolower(txt))[[1]]\n",
    "  idxs <- term_index[toks]\n",
    "  idxs <- idxs[!is.na(idxs)]\n",
    "  # truncate or pad!\n",
    "  if (length(idxs) > max_len) idxs <- idxs[1:max_len]\n",
    "  if (length(idxs) < max_len) idxs <- c(idxs, rep(unk_index, max_len - length(idxs)))\n",
    "  torch_tensor(idxs, dtype = torch_long())\n",
    "}"
   ]
  },
  {
   "cell_type": "markdown",
   "metadata": {},
   "source": [
    "This next block converts all of the raw lyrics and genre labels into the torch‐ready tensors and bundles them for training and validation."
   ]
  },
  {
   "cell_type": "code",
   "execution_count": 33,
   "metadata": {
    "vscode": {
     "languageId": "r"
    }
   },
   "outputs": [],
   "source": [
    "train_tensors <- map(train_music$lyrics, text_to_tensor)\n",
    "train_labels <- torch_tensor(train_music$genre_id + 1, dtype = torch_long())\n",
    "val_tensors <- map(val_music$lyrics, text_to_tensor)\n",
    "val_labels <- torch_tensor(val_music$genre_id + 1, dtype = torch_long())"
   ]
  },
  {
   "cell_type": "markdown",
   "metadata": {},
   "source": [
    "Next I define a custom `LyricsDataset` class. This is essentially a wrapper around the precomputed tensors so that the torch dataloader can iterate over them. In `initialize`, I store the list of text tensors and the label tensor on the dataset object. The `.getitem` method tells torch how to fetch the i-th example: it returns a named list with `x` as the 150-length lyric tensor and `y` as the corresponding genre label. Finally, `.length` reports how many examples are in the dataset (i.e. the length of the label vector). With this in place, I can hand `LyricsDataset` to `dataloader()` and it will automatically batch and shuffle the data during training."
   ]
  },
  {
   "cell_type": "code",
   "execution_count": 34,
   "metadata": {
    "vscode": {
     "languageId": "r"
    }
   },
   "outputs": [],
   "source": [
    "LyricsDataset <- dataset(\n",
    "  initialize = function(texts, labels) {\n",
    "    self$texts <- texts\n",
    "    self$labels <- labels\n",
    "  },\n",
    "  .getitem = function(i) {\n",
    "    list(x = self$texts[[i]], y = self$labels[i])\n",
    "  },\n",
    "  .length = function() length(self$labels)\n",
    ")"
   ]
  },
  {
   "cell_type": "code",
   "execution_count": 35,
   "metadata": {
    "vscode": {
     "languageId": "r"
    }
   },
   "outputs": [],
   "source": [
    "train_ds <- LyricsDataset(train_tensors, train_labels)\n",
    "val_ds <- LyricsDataset(val_tensors,   val_labels)\n",
    "\n",
    "train_dl <- dataloader(train_ds, batch_size = 8, shuffle = TRUE)\n",
    "val_dl <- dataloader(val_ds,   batch_size = 8)"
   ]
  },
  {
   "cell_type": "markdown",
   "metadata": {},
   "source": [
    "Below I define the model. It has three layers: an embedding layer that maps each word index into a learned vector of size `embed_dim`; a dropout layer (with probability `dropout_p`) that zeroes out a fraction of those embeddings to regularize; and a fully connected (`nn_linear`) layer that projects the averaged embedding into `num_classes` logits. In the `forward` pass, the input `x` (of shape `[batch, max_len]`) is looked up in the embedding table to produce a `[batch, max_len, embed_dim]` tensor, dropped out, then averaged over the sequence dimension (collapsing to `[batch, embed_dim]`). That pooled vector is passed through the linear layer to get `[batch, num_classes]` scores, and I apply dropout once more before returning the raw logits."
   ]
  },
  {
   "cell_type": "code",
   "execution_count": 36,
   "metadata": {
    "vscode": {
     "languageId": "r"
    }
   },
   "outputs": [],
   "source": [
    "model <- nn_module(\n",
    "  initialize = function(vocab_size, embed_dim, num_classes, dropout_p) {\n",
    "    self$embed <- nn_embedding(vocab_size + 1, embed_dim)\n",
    "    self$drop <- nn_dropout(dropout_p)\n",
    "    self$fc <- nn_linear(embed_dim, num_classes)\n",
    "  },\n",
    "  forward = function(x) {\n",
    "    e <- self$embed(x)\n",
    "    e <- self$drop(e)\n",
    "    avg <- torch_mean(e, dim = 2)\n",
    "    out <- self$fc(avg)\n",
    "    self$drop(out)\n",
    "  }\n",
    ")\n",
    "\n",
    "# ChatGPT helped me clarify what I needed for this model and helped me build it."
   ]
  },
  {
   "cell_type": "markdown",
   "metadata": {},
   "source": [
    "Here I choose our key hyperparameters - an embedding size of 3, seven output classes, and a 20 % dropout rate - and use them to instantiate the model. I then use the Adam optimizer (learning rate 0.1) to update all of the network’s parameters during training, and define our loss function as cross‐entropy, which compares the raw output logits against the true class labels. Together, `optimizer` and `loss_fn` set up everything the training loop needs to compute gradients and perform parameter updates."
   ]
  },
  {
   "cell_type": "code",
   "execution_count": 37,
   "metadata": {
    "vscode": {
     "languageId": "r"
    }
   },
   "outputs": [],
   "source": [
    "embed_dim <- 3\n",
    "num_classes<- 7\n",
    "dropout_p <- 0.2\n",
    "\n",
    "net <- model(vocab_size, embed_dim, num_classes, dropout_p)\n",
    "optimizer <- optim_adam(net$parameters, lr = 0.1)\n",
    "loss_fn <- nn_cross_entropy_loss()"
   ]
  },
  {
   "cell_type": "markdown",
   "metadata": {},
   "source": [
    "In the training loop (below), I iterate over a 10 epochs. I then initialize counters for cumulative loss, correct predictions, and total examples. Inside the `coro::loop`, each batch `b` from `train_dl` is unpacked into `b$x` (the lyric tensors) and `b$y` (the shifted labels), and I zero out any previous gradients before computing `out <- net(b$x)` (this is a crucial step!). The loss is then calculated via `loss_fn(out, b$y)`, back-propagated with `loss$backward()`, and the optimizer steps to update the weights. After each batch, I accumulate the scalar loss, infer the predicted class by taking `argmax` over the logits, and tally how many predictions match the true labels. Once all batches have run, I report the average loss per batch and the overall training accuracy for that epoch. This loop drives the model’s gradual improvement by repeatedly adjusting its parameters to minimize cross‐entropy loss on the training data (the basis of a general neural net)."
   ]
  },
  {
   "cell_type": "code",
   "execution_count": null,
   "metadata": {
    "vscode": {
     "languageId": "r"
    }
   },
   "outputs": [
    {
     "name": "stdout",
     "output_type": "stream",
     "text": [
      "Epoch  1 | loss = 1.8268 | acc = 0.252\n",
      "Epoch  2 | loss = 1.7578 | acc = 0.290\n",
      "Epoch  3 | loss = 1.7141 | acc = 0.318\n",
      "Epoch  4 | loss = 1.6960 | acc = 0.328\n",
      "Epoch  5 | loss = 1.6885 | acc = 0.332\n",
      "Epoch  6 | loss = 1.6849 | acc = 0.336\n",
      "Epoch  7 | loss = 1.6775 | acc = 0.340\n",
      "Epoch  8 | loss = 1.6717 | acc = 0.345\n",
      "Epoch  9 | loss = 1.6724 | acc = 0.343\n",
      "Epoch 10 | loss = 1.6709 | acc = 0.344\n"
     ]
    }
   ],
   "source": [
    "num_epochs <- 10\n",
    "for (epoch in 1:num_epochs) {\n",
    "  net$train()\n",
    "  total_loss <- 0\n",
    "  total_correct <- 0\n",
    "  total_examples <- 0\n",
    "\n",
    "  coro::loop(for (b in train_dl) {\n",
    "    optimizer$zero_grad()\n",
    "    out <- net(b$x)\n",
    "    loss <- loss_fn(out, b$y)\n",
    "    loss$backward()\n",
    "    optimizer$step()\n",
    "\n",
    "    total_loss <- total_loss + loss$item()\n",
    "    preds <- out$argmax(dim = 2)\n",
    "    total_correct <- total_correct + (preds == b$y)$sum()$item()\n",
    "    total_examples <- total_examples + b$y$size(1)\n",
    "  })\n",
    "\n",
    "  cat(sprintf(\n",
    "    \"Epoch %2d | loss = %.4f | acc = %.3f\\n\",\n",
    "    epoch, total_loss / length(train_dl), total_correct / total_examples\n",
    "  ))\n",
    "}"
   ]
  },
  {
   "cell_type": "markdown",
   "metadata": {},
   "source": [
    "Next is the evaluation phase. I switch the network into inference mode with `net$eval()`, which turns off dropout and other training‐only behaviors. I then initialize counters for the number of correct predictions and total examples. As I loop over batches from `val_dl`, I feed each batch’s inputs `b$x` through the model to get raw scores, take the `argmax` across the class dimension to obtain predicted labels, and compare these to the true labels `b$y`. I accumulate the count of matches and the total number of examples. Finally, I divide `val_correct` by `val_total` to compute and print the overall validation accuracy - the key measure of how well the model generalizes to unseen data."
   ]
  },
  {
   "cell_type": "code",
   "execution_count": null,
   "metadata": {
    "vscode": {
     "languageId": "r"
    }
   },
   "outputs": [
    {
     "name": "stdout",
     "output_type": "stream",
     "text": [
      "Validation accuracy: 0.291\n"
     ]
    }
   ],
   "source": [
    "net$eval()\n",
    "val_correct <- 0\n",
    "val_total <- 0\n",
    "\n",
    "coro::loop(for (b in val_dl) {\n",
    "  out <- net(b$x)\n",
    "  preds <- out$argmax(dim = 2)\n",
    "  val_correct <- val_correct + (preds == b$y)$sum()$item()\n",
    "  val_total <- val_total   + b$y$size(1)\n",
    "})\n",
    "\n",
    "cat(sprintf(\"Validation accuracy: %.3f\\n\", val_correct / val_total))"
   ]
  },
  {
   "cell_type": "markdown",
   "metadata": {},
   "source": [
    "We get a validation accuracy of 29.1%, which is better than just always guessing the 'pop' genre."
   ]
  },
  {
   "cell_type": "markdown",
   "metadata": {},
   "source": [
    "# Assisting our NN with A Random Forest\n",
    "\n",
    "Next I'll use a classic method that we've used in class to extend the work I've already done above to help me more comprehensively answer my research question. I'll use a random forest to show which words most strongly influence predictions, giving us insights into genre-specific vocabulary. Also this model will act as a comparison to our NN."
   ]
  },
  {
   "cell_type": "code",
   "execution_count": 45,
   "metadata": {
    "vscode": {
     "languageId": "r"
    }
   },
   "outputs": [],
   "source": [
    "library(text2vec)\n",
    "library(ranger)\n",
    "library(ggplot2)"
   ]
  },
  {
   "cell_type": "markdown",
   "metadata": {},
   "source": [
    "I used TF–IDF - a text-version of PCA - to weight words by how uncommon they are across all songs, so that rare but telling terms get more emphasis. In class, we used PCA to simplify our numeric data and ensemble methods on our custom features to improve accuracy and make the results easier to understand; TF–IDF applies the same idea to lyrics. Raw word counts include thousands of tokens - many (“the,” “and,” etc.) add noise - so TF–IDF down-weights those and amplifies genre-specific words. This not only raises our Random Forest’s accuracy but also yields clear importance scores, showing exactly which words drive its genre predictions. Unlike our tidytext counts, TF–IDF corrects for overly common terms, making sure the model focuses on truly telling vocabulary."
   ]
  },
  {
   "cell_type": "code",
   "execution_count": 46,
   "metadata": {
    "vscode": {
     "languageId": "r"
    }
   },
   "outputs": [],
   "source": [
    "# vectorize lyrics with TF-IDF\n",
    "it_train <- itoken(train_music$lyrics,\n",
    "                   preprocessor = tolower,\n",
    "                   tokenizer    = word_tokenizer,\n",
    "                   progressbar  = FALSE)\n",
    "vocab <- create_vocabulary(it_train) %>% prune_vocabulary(term_count_min = 50)\n",
    "vectorizer <- vocab_vectorizer(vocab)\n",
    "dtm_train <- create_dtm(it_train, vectorizer)\n",
    "tfidf <- TfIdf$new()\n",
    "dtm_train_tfidf <- fit_transform(dtm_train, tfidf)\n",
    "\n",
    "it_val <- itoken(val_music$lyrics,\n",
    "                 preprocessor = tolower,\n",
    "                 tokenizer    = word_tokenizer,\n",
    "                 rogressbar  = FALSE)\n",
    "\n",
    "dtm_val <- create_dtm(it_val, vectorizer)\n",
    "dtm_val_tfidf <- transform(dtm_val, tfidf)"
   ]
  },
  {
   "cell_type": "code",
   "execution_count": 49,
   "metadata": {
    "vscode": {
     "languageId": "r"
    }
   },
   "outputs": [],
   "source": [
    "train_rf <- as.data.frame(as.matrix(dtm_train_tfidf))\n",
    "train_rf$genre <- factor(train_music$genre)\n",
    "val_rf <- as.data.frame(as.matrix(dtm_val_tfidf))\n",
    "val_rf$genre <- factor(val_music$genre)\n",
    "\n",
    "colnames(train_rf) <- make.names(colnames(train_rf))\n",
    "colnames(val_rf) <- make.names(colnames(val_rf))"
   ]
  },
  {
   "cell_type": "code",
   "execution_count": null,
   "metadata": {
    "vscode": {
     "languageId": "r"
    }
   },
   "outputs": [
    {
     "name": "stdout",
     "output_type": "stream",
     "text": [
      "Growing trees.. Progress: 17%. Estimated remaining time: 2 minutes, 35 seconds.\n",
      "Growing trees.. Progress: 34%. Estimated remaining time: 2 minutes, 2 seconds.\n",
      "Growing trees.. Progress: 50%. Estimated remaining time: 1 minute, 31 seconds.\n",
      "Growing trees.. Progress: 67%. Estimated remaining time: 1 minute, 0 seconds.\n",
      "Growing trees.. Progress: 84%. Estimated remaining time: 29 seconds.\n",
      "Growing trees.. Progress: 100%. Estimated remaining time: 0 seconds.\n",
      "Ranger result\n",
      "\n",
      "Call:\n",
      " ranger(genre ~ ., data = train_rf, importance = \"impurity\") \n",
      "\n",
      "Type:                             Classification \n",
      "Number of trees:                  500 \n",
      "Sample size:                      22696 \n",
      "Number of independent variables:  2898 \n",
      "Mtry:                             53 \n",
      "Target node size:                 1 \n",
      "Variable importance mode:         impurity \n",
      "Splitrule:                        gini \n",
      "OOB prediction error:             61.45 % \n"
     ]
    }
   ],
   "source": [
    "# the model!\n",
    "rf_mod <- ranger(genre ~ ., data = train_rf, importance = \"impurity\")\n",
    "print(rf_mod)"
   ]
  },
  {
   "cell_type": "code",
   "execution_count": null,
   "metadata": {
    "vscode": {
     "languageId": "r"
    }
   },
   "outputs": [
    {
     "name": "stdout",
     "output_type": "stream",
     "text": [
      "Validation accuracy: 0.3985201 \n"
     ]
    },
    {
     "data": {
      "image/png": "[encoded data removed]",
      "text/plain": [
       "plot without title"
      ]
     },
     "metadata": {
      "image/png": {
       "height": 420,
       "width": 420
      }
     },
     "output_type": "display_data"
    }
   ],
   "source": [
    "# plot top-20 important terms\n",
    "imp <- sort(rf_mod$variable.importance, decreasing = TRUE)[1:20]\n",
    "imp_df <- data.frame(term = names(imp), importance = imp)\n",
    "\n",
    "colors <- colorRampPalette(c(\"#2C3E50\", \"#3498DB\"))(20)\n",
    "\n",
    "ggplot(imp_df, aes(importance, reorder(term, importance))) +\n",
    "  geom_col(fill = colors) +\n",
    "  labs(\n",
    "    title = \"Top 20 Most Important Terms\",\n",
    "    subtitle = \"Random Forest Variable Importance\",\n",
    "    x = \"Importance Score\",\n",
    "    y = NULL\n",
    "  ) +\n",
    "  theme_minimal() +\n",
    "  theme(\n",
    "    panel.grid.major.y = element_line(color = \"gray90\"),\n",
    "    panel.grid.minor = element_blank(),\n",
    "    axis.text.y = element_text(size = 11),\n",
    "    plot.title = element_text(face = \"bold\", size = 14),\n",
    "    plot.subtitle = element_text(color = \"gray30\", size = 12)\n",
    "  ) +\n",
    "  scale_x_continuous(expand = c(0, 0))\n",
    "\n",
    "# look at validation accuracy\n",
    "preds <- predict(rf_mod, data = val_rf)$predictions\n",
    "cat(\"Validation accuracy:\", mean(preds == val_rf$genre), \"\\n\")"
   ]
  },
  {
   "cell_type": "markdown",
   "metadata": {},
   "source": [
    "The random forest achieved 39.9% accuracy on the validation set. This is a big improvement over the naive baseline (always predicting the most common genre,24.8%), indicating that the TF-IDF representations capture meaningful genre signals in the lyrics. The close match between OOB and validation accuracies also suggests the model generalizes consistently without overfitting. By contrast, my neural network reached only 29.1% validation accuracy, pretty far below the forest’s 39.9%. The RF’s strength here likely comes from its direct use of thousands of term-level TF-IDF features, which help to exploit word frequency patterns. The neural net, with just a 3-dimensional embedding and simple averaging, may under represent the important vocabulary distinctions needed to catch genre differences. Also, the forest gives explicit feature importances, showing which words drive its predictions which is great to see. The neural network approach, on the other hand, could maybe benefit from larger embeddings or a more complex architecture to increase its performance."
   ]
  },
  {
   "cell_type": "markdown",
   "metadata": {},
   "source": [
    "## Results"
   ]
  },
  {
   "cell_type": "markdown",
   "metadata": {},
   "source": [
    "Our Random Forest model - think of it as a team of many simple decision trees voting on genre - was able to correctly guess a song’s genre about 40% of the time on new data. That’s a big jump from the 25% you’d get by always picking the single most common genre, and it tells us that the way we weighed words really does highlight the right lyrical clues. Because its out-of-bag accuracy was nearly the same as the 40% we saw on held-out songs, we know it isn’t just memorizing the training set — it’s learning patterns that hold up on fresh examples.\n",
    "\n",
    "By comparison, the neural network, which boiled each song down to a three-number summary, only got about 29% correct on the same test set. The Forest’s edge likely comes from having thousands of individual word level signals to draw on, whereas the simple neural setup may miss some of the subtle vocabulary that really marks a genre. One extra benefit of the Forest is that it tells us which specific words matter most—terms like “commercial,” “lyric,” or “know” popped up as surprisingly influential, even if they don’t jump out as obvious genre markers.\n",
    "\n",
    "This project set out to answer a pretty simple question: **can you tell a song’s genre just by reading its lyrics?** To find out, I trained two different “readers” of lyrics. The first was a neural network that translates each word into a handful of numbers and then makes a guess, and the second was a Random Forest that looks at how often each word appears (after giving rare, telling words extra weight). In testing, the Forest correctly identified genre nearly **40%** of the time, well above the roughly **25%** you’d get by always picking the most common genre, and its internal importance scores showed which words mattered most. The neural network got **29%** accuracy with its simple three-number summary of each song. In the end, both methods beat the naïve baseline, but the Random Forest proved both more accurate and more transparent, highlighting the key lyrical clues that help distinguish genres."
   ]
  },
  {
   "cell_type": "markdown",
   "metadata": {},
   "source": [
    "# Sources\n",
    "Here are some websites I used to help guide me through the neural net model building. Note that I have also taken Machine Learning, which came in handy when doing this project!\n",
    "\n",
    "[Torch](https://torch.mlverse.org/technical/tensors/)\n",
    "\n",
    "[Torch in R](https://blogs.rstudio.com/ai/posts/2020-09-29-introducing-torch-for-r/)\n",
    "\n",
    "[Neural net intro](https://www.youtube.com/watch?v=aircAruvnKk)\n",
    "\n",
    "[ChatGPT](https://chatgpt.com)\n",
    "\n",
    "ChatGPT provided general coding help and an inuitive sense when building the neural network."
   ]
  }
 ],
 "metadata": {
  "kernelspec": {
   "display_name": "R",
   "language": "R",
   "name": "ir"
  },
  "language_info": {
   "codemirror_mode": "r",
   "file_extension": ".r",
   "mimetype": "text/x-r-source",
   "name": "R",
   "pygments_lexer": "r",
   "version": "4.4.2"
  }
 },
 "nbformat": 4,
 "nbformat_minor": 2
}
